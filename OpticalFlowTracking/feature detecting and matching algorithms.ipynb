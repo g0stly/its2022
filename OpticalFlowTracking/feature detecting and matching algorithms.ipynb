{
 "cells": [
  {
   "cell_type": "markdown",
   "metadata": {},
   "source": [
    "## Feature Detection + Matching\n",
    "\n",
    "1. **Detection**\n",
    "    * SIFT, Harris Corner, Affine SIFT \n",
    "\n",
    "\n",
    "2. **Matching**\n",
    "    * Brute-Force \n",
    "\n",
    "\n",
    "\n",
    "3. **Post-processing**\n",
    "    * Ransac algorithm, Filtering\n",
    "    \n",
    "**Libraries:**\n",
    "- opencv2\n",
    "- matplotlib\n",
    "- numpy"
   ]
  },
  {
   "cell_type": "code",
   "execution_count": 1,
   "metadata": {},
   "outputs": [],
   "source": [
    "%matplotlib inline\n",
    "\n",
    "from cv2 import cv2\n",
    "from matplotlib import pyplot as plt\n",
    "import numpy as np\n",
    "import json\n",
    "import yaml\n",
    "import re\n",
    "\n",
    "plt.rcParams['figure.figsize'] = [13, 7]"
   ]
  },
  {
   "cell_type": "code",
   "execution_count": 2,
   "metadata": {},
   "outputs": [
    {
     "data": {
      "text/plain": [
       "('images/cam0/frame-6237.png', 'frames/cam0/frame_6237.yml')"
      ]
     },
     "execution_count": 2,
     "metadata": {},
     "output_type": "execute_result"
    }
   ],
   "source": [
    "# не забыть потом увеличить количество рассматриваемых кадров (вспомнить про отличные наименования)\n",
    "#\n",
    "#          ссылка на картинку               ссылка на боксы\n",
    "frames = [(f'images/cam{i}/frame-{j}.png', f'frames/cam{i}/frame_{j}.yml') \\\n",
    "                                      for i in range(2) for j in range(6237, 6241)]\n",
    "frames[0]"
   ]
  },
  {
   "cell_type": "markdown",
   "metadata": {},
   "source": [
    "### Чтение .yaml файлов"
   ]
  },
  {
   "cell_type": "code",
   "execution_count": 3,
   "metadata": {},
   "outputs": [],
   "source": [
    "# функция, корректирующая yaml файл, сгенерированный с помощью OpenCV, в формат,\n",
    "# который может прочитать питон (библиотека yaml)\n",
    "\n",
    "def readYAMLFile(file):\n",
    "    ret = {}\n",
    "    skip_lines = 1    # Skip the first line which says \"%YAML:1.0\". Or replace it with \"%YAML 1.0\"\n",
    "    with open(file) as fin:\n",
    "        for i in range(skip_lines):\n",
    "            fin.readline()\n",
    "        yamlFileOut = fin.read()\n",
    "        myRe = re.compile(r\":([^ ])\")   # Add space after \":\", if it doesn't exist. Python yaml requirement\n",
    "        yamlFileOut = myRe.sub(r': \\1', yamlFileOut)\n",
    "        ret = yaml.safe_load(yamlFileOut)\n",
    "    return ret"
   ]
  },
  {
   "cell_type": "code",
   "execution_count": 4,
   "metadata": {
    "scrolled": true
   },
   "outputs": [
    {
     "data": {
      "text/plain": [
       "{'id': 11,\n",
       " 'conf': 0.465576171875,\n",
       " 'class': 'car',\n",
       " 'x_min': 290,\n",
       " 'y_min': 319,\n",
       " 'x_max': 476,\n",
       " 'y_max': 517}"
      ]
     },
     "execution_count": 4,
     "metadata": {},
     "output_type": "execute_result"
    }
   ],
   "source": [
    "# боксы, ограничивающие объекты на конкретном снимке        \\/\n",
    "data = [readYAMLFile(frame[1])['boxes'] for frame in frames[:2]]\n",
    "\n",
    "data[0][11] # 0 объект 0 кадра"
   ]
  },
  {
   "cell_type": "code",
   "execution_count": 5,
   "metadata": {
    "scrolled": true
   },
   "outputs": [
    {
     "data": {
      "text/plain": [
       "{'id': 21,\n",
       " 'conf': 0.64111328125,\n",
       " 'class': 'car',\n",
       " 'x_min': 313,\n",
       " 'y_min': 308,\n",
       " 'x_max': 483,\n",
       " 'y_max': 485}"
      ]
     },
     "execution_count": 5,
     "metadata": {},
     "output_type": "execute_result"
    }
   ],
   "source": [
    "data[1][6]"
   ]
  },
  {
   "cell_type": "code",
   "execution_count": 6,
   "metadata": {
    "scrolled": false
   },
   "outputs": [
    {
     "data": {
      "text/plain": [
       "[5, 9, 12, 13, 25, 26, 28, 29]"
      ]
     },
     "execution_count": 6,
     "metadata": {},
     "output_type": "execute_result"
    }
   ],
   "source": [
    "# пытаюсь не запутаться с SIFT\n",
    "\n",
    "sift = cv2.SIFT_create()\n",
    "features = {}\n",
    "defective = []\n",
    "\n",
    "for frame in frames[:2]:\n",
    "    image = cv2.imread(frame[0], cv2.IMREAD_GRAYSCALE)\n",
    "    features[frame[0][-14:-4]] = []\n",
    "    \n",
    "    for obj in readYAMLFile(frame[1])['boxes']:\n",
    "        crop_image = image[obj['y_min']: obj['y_max'], obj['x_min']: obj['x_max']]\n",
    "        \n",
    "        kp, des = sift.detectAndCompute(crop_image, None)\n",
    "        features[frame[0][-14:-4]].append({'id': obj['id'], 'kp': kp, 'des': des})\n",
    "        \n",
    "        if kp == ():\n",
    "            defective.append(obj['id'])\n",
    "\n",
    "defective"
   ]
  },
  {
   "cell_type": "code",
   "execution_count": null,
   "metadata": {},
   "outputs": [],
   "source": []
  },
  {
   "cell_type": "code",
   "execution_count": 7,
   "metadata": {},
   "outputs": [],
   "source": [
    "def process_2_objects(obj1, obj2, bf):\n",
    "    # проверка на существование найденных ключевых точек\n",
    "    des1, des2 = obj1['des'], obj2['des']\n",
    "    if des1 is None or des2 is None:\n",
    "        return [(obj1['id'], obj2['id']), 0, 0]\n",
    "    \n",
    "    # print('matching between object with ids {} and {}:'.format(obj1['id'], obj2['id']))\n",
    "    \n",
    "    # 1 stage\n",
    "    ab_matches = bf.knnMatch(des1, des2, k=2)\n",
    "    ba_matches = bf.knnMatch(des2, des1, k=2)\n",
    "    # print(f'\\t1. sift featuring + \"standart\" bruteforce matching: {len(matches)} matches')\n",
    "    \n",
    "    # 2 stage\n",
    "    good = []\n",
    "    for m, n in max(ab_matches, ba_matches, key=len):\n",
    "        if m.distance < 0.75 * n.distance:\n",
    "            good.append([m])\n",
    "    # print(f'\\t2. after applying ration test: {len(good)} matches\\n')\n",
    "    \n",
    "    return [(obj1['id'], obj2['id']), len(ab_matches), len(ba_matches), len(good)]"
   ]
  },
  {
   "cell_type": "code",
   "execution_count": 8,
   "metadata": {
    "scrolled": false
   },
   "outputs": [],
   "source": [
    "sift_matching = []\n",
    "brf = cv2.BFMatcher()\n",
    "for i in list(features.values())[0]:\n",
    "    for j in list(features.values())[1]:\n",
    "        sift_matching.append(process_2_objects(i, j, brf))"
   ]
  },
  {
   "cell_type": "code",
   "execution_count": 9,
   "metadata": {
    "collapsed": true
   },
   "outputs": [
    {
     "data": {
      "text/plain": [
       "[[(0, 15), 5, 9, 0],\n",
       " [(0, 16), 5, 11, 3],\n",
       " [(0, 17), 5, 26, 1],\n",
       " [(0, 18), 5, 12, 0],\n",
       " [(0, 19), 5, 26, 1],\n",
       " [(0, 20), 5, 31, 5],\n",
       " [(0, 21), 5, 129, 17],\n",
       " [(0, 22), 5, 105, 4],\n",
       " [(0, 23), 5, 36, 0],\n",
       " [(0, 24), 5, 3, 0],\n",
       " [(0, 25), 0, 0],\n",
       " [(0, 26), 0, 0],\n",
       " [(0, 27), 5, 3, 1],\n",
       " [(0, 28), 0, 0],\n",
       " [(0, 29), 0, 0],\n",
       " [(1, 15), 12, 9, 4],\n",
       " [(1, 16), 12, 11, 0],\n",
       " [(1, 17), 12, 26, 0],\n",
       " [(1, 18), 12, 12, 0],\n",
       " [(1, 19), 12, 26, 3],\n",
       " [(1, 20), 12, 31, 1],\n",
       " [(1, 21), 12, 129, 6],\n",
       " [(1, 22), 12, 105, 5],\n",
       " [(1, 23), 12, 36, 0],\n",
       " [(1, 24), 12, 3, 2],\n",
       " [(1, 25), 0, 0],\n",
       " [(1, 26), 0, 0],\n",
       " [(1, 27), 12, 3, 0],\n",
       " [(1, 28), 0, 0],\n",
       " [(1, 29), 0, 0],\n",
       " [(2, 15), 29, 9, 0],\n",
       " [(2, 16), 29, 11, 3],\n",
       " [(2, 17), 29, 26, 0],\n",
       " [(2, 18), 29, 12, 0],\n",
       " [(2, 19), 29, 26, 0],\n",
       " [(2, 20), 29, 31, 10],\n",
       " [(2, 21), 29, 129, 13],\n",
       " [(2, 22), 29, 105, 11],\n",
       " [(2, 23), 29, 36, 1],\n",
       " [(2, 24), 29, 3, 4],\n",
       " [(2, 25), 0, 0],\n",
       " [(2, 26), 0, 0],\n",
       " [(2, 27), 29, 3, 3],\n",
       " [(2, 28), 0, 0],\n",
       " [(2, 29), 0, 0],\n",
       " [(3, 15), 15, 9, 0],\n",
       " [(3, 16), 15, 11, 0],\n",
       " [(3, 17), 15, 26, 8],\n",
       " [(3, 18), 15, 12, 1],\n",
       " [(3, 19), 15, 26, 0],\n",
       " [(3, 20), 15, 31, 0],\n",
       " [(3, 21), 15, 129, 2],\n",
       " [(3, 22), 15, 105, 0],\n",
       " [(3, 23), 15, 36, 2],\n",
       " [(3, 24), 15, 3, 0],\n",
       " [(3, 25), 0, 0],\n",
       " [(3, 26), 0, 0],\n",
       " [(3, 27), 15, 3, 0],\n",
       " [(3, 28), 0, 0],\n",
       " [(3, 29), 0, 0],\n",
       " [(4, 15), 14, 9, 0],\n",
       " [(4, 16), 14, 11, 0],\n",
       " [(4, 17), 14, 26, 0],\n",
       " [(4, 18), 14, 12, 1],\n",
       " [(4, 19), 14, 26, 0],\n",
       " [(4, 20), 14, 31, 0],\n",
       " [(4, 21), 14, 129, 1],\n",
       " [(4, 22), 14, 105, 1],\n",
       " [(4, 23), 14, 36, 4],\n",
       " [(4, 24), 14, 3, 0],\n",
       " [(4, 25), 0, 0],\n",
       " [(4, 26), 0, 0],\n",
       " [(4, 27), 14, 3, 0],\n",
       " [(4, 28), 0, 0],\n",
       " [(4, 29), 0, 0],\n",
       " [(5, 15), 0, 0],\n",
       " [(5, 16), 0, 0],\n",
       " [(5, 17), 0, 0],\n",
       " [(5, 18), 0, 0],\n",
       " [(5, 19), 0, 0],\n",
       " [(5, 20), 0, 0],\n",
       " [(5, 21), 0, 0],\n",
       " [(5, 22), 0, 0],\n",
       " [(5, 23), 0, 0],\n",
       " [(5, 24), 0, 0],\n",
       " [(5, 25), 0, 0],\n",
       " [(5, 26), 0, 0],\n",
       " [(5, 27), 0, 0],\n",
       " [(5, 28), 0, 0],\n",
       " [(5, 29), 0, 0],\n",
       " [(6, 15), 43, 9, 0],\n",
       " [(6, 16), 43, 11, 1],\n",
       " [(6, 17), 43, 26, 1],\n",
       " [(6, 18), 43, 12, 0],\n",
       " [(6, 19), 43, 26, 0],\n",
       " [(6, 20), 43, 31, 0],\n",
       " [(6, 21), 43, 129, 6],\n",
       " [(6, 22), 43, 105, 4],\n",
       " [(6, 23), 43, 36, 14],\n",
       " [(6, 24), 43, 3, 3],\n",
       " [(6, 25), 0, 0],\n",
       " [(6, 26), 0, 0],\n",
       " [(6, 27), 43, 3, 0],\n",
       " [(6, 28), 0, 0],\n",
       " [(6, 29), 0, 0],\n",
       " [(7, 15), 35, 9, 0],\n",
       " [(7, 16), 35, 11, 0],\n",
       " [(7, 17), 35, 26, 0],\n",
       " [(7, 18), 35, 12, 0],\n",
       " [(7, 19), 35, 26, 15],\n",
       " [(7, 20), 35, 31, 1],\n",
       " [(7, 21), 35, 129, 0],\n",
       " [(7, 22), 35, 105, 1],\n",
       " [(7, 23), 35, 36, 0],\n",
       " [(7, 24), 35, 3, 5],\n",
       " [(7, 25), 0, 0],\n",
       " [(7, 26), 0, 0],\n",
       " [(7, 27), 35, 3, 1],\n",
       " [(7, 28), 0, 0],\n",
       " [(7, 29), 0, 0],\n",
       " [(8, 15), 3, 9, 0],\n",
       " [(8, 16), 3, 11, 1],\n",
       " [(8, 17), 3, 26, 0],\n",
       " [(8, 18), 3, 12, 0],\n",
       " [(8, 19), 3, 26, 0],\n",
       " [(8, 20), 3, 31, 0],\n",
       " [(8, 21), 3, 129, 0],\n",
       " [(8, 22), 3, 105, 0],\n",
       " [(8, 23), 3, 36, 0],\n",
       " [(8, 24), 3, 3, 0],\n",
       " [(8, 25), 0, 0],\n",
       " [(8, 26), 0, 0],\n",
       " [(8, 27), 3, 3, 1],\n",
       " [(8, 28), 0, 0],\n",
       " [(8, 29), 0, 0],\n",
       " [(9, 15), 0, 0],\n",
       " [(9, 16), 0, 0],\n",
       " [(9, 17), 0, 0],\n",
       " [(9, 18), 0, 0],\n",
       " [(9, 19), 0, 0],\n",
       " [(9, 20), 0, 0],\n",
       " [(9, 21), 0, 0],\n",
       " [(9, 22), 0, 0],\n",
       " [(9, 23), 0, 0],\n",
       " [(9, 24), 0, 0],\n",
       " [(9, 25), 0, 0],\n",
       " [(9, 26), 0, 0],\n",
       " [(9, 27), 0, 0],\n",
       " [(9, 28), 0, 0],\n",
       " [(9, 29), 0, 0],\n",
       " [(10, 15), 3, 9, 0],\n",
       " [(10, 16), 3, 11, 2],\n",
       " [(10, 17), 3, 26, 0],\n",
       " [(10, 18), 3, 12, 0],\n",
       " [(10, 19), 3, 26, 0],\n",
       " [(10, 20), 3, 31, 1],\n",
       " [(10, 21), 3, 129, 4],\n",
       " [(10, 22), 3, 105, 0],\n",
       " [(10, 23), 3, 36, 0],\n",
       " [(10, 24), 3, 3, 1],\n",
       " [(10, 25), 0, 0],\n",
       " [(10, 26), 0, 0],\n",
       " [(10, 27), 3, 3, 0],\n",
       " [(10, 28), 0, 0],\n",
       " [(10, 29), 0, 0],\n",
       " [(11, 15), 123, 9, 1],\n",
       " [(11, 16), 123, 11, 2],\n",
       " [(11, 17), 123, 26, 4],\n",
       " [(11, 18), 123, 12, 0],\n",
       " [(11, 19), 123, 26, 2],\n",
       " [(11, 20), 123, 31, 2],\n",
       " [(11, 21), 123, 129, 40],\n",
       " [(11, 22), 123, 105, 4],\n",
       " [(11, 23), 123, 36, 2],\n",
       " [(11, 24), 123, 3, 21],\n",
       " [(11, 25), 0, 0],\n",
       " [(11, 26), 0, 0],\n",
       " [(11, 27), 123, 3, 3],\n",
       " [(11, 28), 0, 0],\n",
       " [(11, 29), 0, 0],\n",
       " [(12, 15), 0, 0],\n",
       " [(12, 16), 0, 0],\n",
       " [(12, 17), 0, 0],\n",
       " [(12, 18), 0, 0],\n",
       " [(12, 19), 0, 0],\n",
       " [(12, 20), 0, 0],\n",
       " [(12, 21), 0, 0],\n",
       " [(12, 22), 0, 0],\n",
       " [(12, 23), 0, 0],\n",
       " [(12, 24), 0, 0],\n",
       " [(12, 25), 0, 0],\n",
       " [(12, 26), 0, 0],\n",
       " [(12, 27), 0, 0],\n",
       " [(12, 28), 0, 0],\n",
       " [(12, 29), 0, 0],\n",
       " [(13, 15), 0, 0],\n",
       " [(13, 16), 0, 0],\n",
       " [(13, 17), 0, 0],\n",
       " [(13, 18), 0, 0],\n",
       " [(13, 19), 0, 0],\n",
       " [(13, 20), 0, 0],\n",
       " [(13, 21), 0, 0],\n",
       " [(13, 22), 0, 0],\n",
       " [(13, 23), 0, 0],\n",
       " [(13, 24), 0, 0],\n",
       " [(13, 25), 0, 0],\n",
       " [(13, 26), 0, 0],\n",
       " [(13, 27), 0, 0],\n",
       " [(13, 28), 0, 0],\n",
       " [(13, 29), 0, 0],\n",
       " [(14, 15), 71, 9, 0],\n",
       " [(14, 16), 71, 11, 0],\n",
       " [(14, 17), 71, 26, 0],\n",
       " [(14, 18), 71, 12, 0],\n",
       " [(14, 19), 71, 26, 1],\n",
       " [(14, 20), 71, 31, 2],\n",
       " [(14, 21), 71, 129, 8],\n",
       " [(14, 22), 71, 105, 43],\n",
       " [(14, 23), 71, 36, 2],\n",
       " [(14, 24), 71, 3, 3],\n",
       " [(14, 25), 0, 0],\n",
       " [(14, 26), 0, 0],\n",
       " [(14, 27), 71, 3, 3],\n",
       " [(14, 28), 0, 0],\n",
       " [(14, 29), 0, 0]]"
      ]
     },
     "execution_count": 9,
     "metadata": {},
     "output_type": "execute_result"
    }
   ],
   "source": [
    "sift_matching"
   ]
  },
  {
   "cell_type": "code",
   "execution_count": 10,
   "metadata": {
    "collapsed": true
   },
   "outputs": [
    {
     "data": {
      "text/plain": [
       "[[(0, 15), 5, 9, 0],\n",
       " [(0, 16), 5, 11, 3],\n",
       " [(0, 17), 5, 26, 1],\n",
       " [(0, 18), 5, 12, 0],\n",
       " [(0, 19), 5, 26, 1],\n",
       " [(0, 20), 5, 31, 5],\n",
       " [(0, 21), 5, 129, 17],\n",
       " [(0, 22), 5, 105, 4],\n",
       " [(0, 23), 5, 36, 0],\n",
       " [(0, 24), 5, 3, 0],\n",
       " [(0, 27), 5, 3, 1],\n",
       " [(1, 15), 12, 9, 4],\n",
       " [(1, 16), 12, 11, 0],\n",
       " [(1, 17), 12, 26, 0],\n",
       " [(1, 18), 12, 12, 0],\n",
       " [(1, 19), 12, 26, 3],\n",
       " [(1, 20), 12, 31, 1],\n",
       " [(1, 21), 12, 129, 6],\n",
       " [(1, 22), 12, 105, 5],\n",
       " [(1, 23), 12, 36, 0],\n",
       " [(1, 24), 12, 3, 2],\n",
       " [(1, 27), 12, 3, 0],\n",
       " [(2, 15), 29, 9, 0],\n",
       " [(2, 16), 29, 11, 3],\n",
       " [(2, 17), 29, 26, 0],\n",
       " [(2, 18), 29, 12, 0],\n",
       " [(2, 19), 29, 26, 0],\n",
       " [(2, 20), 29, 31, 10],\n",
       " [(2, 21), 29, 129, 13],\n",
       " [(2, 22), 29, 105, 11],\n",
       " [(2, 23), 29, 36, 1],\n",
       " [(2, 24), 29, 3, 4],\n",
       " [(2, 27), 29, 3, 3],\n",
       " [(3, 15), 15, 9, 0],\n",
       " [(3, 16), 15, 11, 0],\n",
       " [(3, 17), 15, 26, 8],\n",
       " [(3, 18), 15, 12, 1],\n",
       " [(3, 19), 15, 26, 0],\n",
       " [(3, 20), 15, 31, 0],\n",
       " [(3, 21), 15, 129, 2],\n",
       " [(3, 22), 15, 105, 0],\n",
       " [(3, 23), 15, 36, 2],\n",
       " [(3, 24), 15, 3, 0],\n",
       " [(3, 27), 15, 3, 0],\n",
       " [(4, 15), 14, 9, 0],\n",
       " [(4, 16), 14, 11, 0],\n",
       " [(4, 17), 14, 26, 0],\n",
       " [(4, 18), 14, 12, 1],\n",
       " [(4, 19), 14, 26, 0],\n",
       " [(4, 20), 14, 31, 0],\n",
       " [(4, 21), 14, 129, 1],\n",
       " [(4, 22), 14, 105, 1],\n",
       " [(4, 23), 14, 36, 4],\n",
       " [(4, 24), 14, 3, 0],\n",
       " [(4, 27), 14, 3, 0],\n",
       " [(6, 15), 43, 9, 0],\n",
       " [(6, 16), 43, 11, 1],\n",
       " [(6, 17), 43, 26, 1],\n",
       " [(6, 18), 43, 12, 0],\n",
       " [(6, 19), 43, 26, 0],\n",
       " [(6, 20), 43, 31, 0],\n",
       " [(6, 21), 43, 129, 6],\n",
       " [(6, 22), 43, 105, 4],\n",
       " [(6, 23), 43, 36, 14],\n",
       " [(6, 24), 43, 3, 3],\n",
       " [(6, 27), 43, 3, 0],\n",
       " [(7, 15), 35, 9, 0],\n",
       " [(7, 16), 35, 11, 0],\n",
       " [(7, 17), 35, 26, 0],\n",
       " [(7, 18), 35, 12, 0],\n",
       " [(7, 19), 35, 26, 15],\n",
       " [(7, 20), 35, 31, 1],\n",
       " [(7, 21), 35, 129, 0],\n",
       " [(7, 22), 35, 105, 1],\n",
       " [(7, 23), 35, 36, 0],\n",
       " [(7, 24), 35, 3, 5],\n",
       " [(7, 27), 35, 3, 1],\n",
       " [(8, 15), 3, 9, 0],\n",
       " [(8, 16), 3, 11, 1],\n",
       " [(8, 17), 3, 26, 0],\n",
       " [(8, 18), 3, 12, 0],\n",
       " [(8, 19), 3, 26, 0],\n",
       " [(8, 20), 3, 31, 0],\n",
       " [(8, 21), 3, 129, 0],\n",
       " [(8, 22), 3, 105, 0],\n",
       " [(8, 23), 3, 36, 0],\n",
       " [(8, 24), 3, 3, 0],\n",
       " [(8, 27), 3, 3, 1],\n",
       " [(10, 15), 3, 9, 0],\n",
       " [(10, 16), 3, 11, 2],\n",
       " [(10, 17), 3, 26, 0],\n",
       " [(10, 18), 3, 12, 0],\n",
       " [(10, 19), 3, 26, 0],\n",
       " [(10, 20), 3, 31, 1],\n",
       " [(10, 21), 3, 129, 4],\n",
       " [(10, 22), 3, 105, 0],\n",
       " [(10, 23), 3, 36, 0],\n",
       " [(10, 24), 3, 3, 1],\n",
       " [(10, 27), 3, 3, 0],\n",
       " [(11, 15), 123, 9, 1],\n",
       " [(11, 16), 123, 11, 2],\n",
       " [(11, 17), 123, 26, 4],\n",
       " [(11, 18), 123, 12, 0],\n",
       " [(11, 19), 123, 26, 2],\n",
       " [(11, 20), 123, 31, 2],\n",
       " [(11, 21), 123, 129, 40],\n",
       " [(11, 22), 123, 105, 4],\n",
       " [(11, 23), 123, 36, 2],\n",
       " [(11, 24), 123, 3, 21],\n",
       " [(11, 27), 123, 3, 3],\n",
       " [(14, 15), 71, 9, 0],\n",
       " [(14, 16), 71, 11, 0],\n",
       " [(14, 17), 71, 26, 0],\n",
       " [(14, 18), 71, 12, 0],\n",
       " [(14, 19), 71, 26, 1],\n",
       " [(14, 20), 71, 31, 2],\n",
       " [(14, 21), 71, 129, 8],\n",
       " [(14, 22), 71, 105, 43],\n",
       " [(14, 23), 71, 36, 2],\n",
       " [(14, 24), 71, 3, 3],\n",
       " [(14, 27), 71, 3, 3]]"
      ]
     },
     "execution_count": 10,
     "metadata": {},
     "output_type": "execute_result"
    }
   ],
   "source": [
    "representative = [x for x in sift_matching if x[0][0] not in defective and x[0][1] not in defective]\n",
    "representative"
   ]
  },
  {
   "cell_type": "code",
   "execution_count": null,
   "metadata": {},
   "outputs": [],
   "source": []
  },
  {
   "cell_type": "code",
   "execution_count": null,
   "metadata": {},
   "outputs": [],
   "source": []
  },
  {
   "cell_type": "code",
   "execution_count": null,
   "metadata": {},
   "outputs": [],
   "source": []
  },
  {
   "cell_type": "code",
   "execution_count": 272,
   "metadata": {},
   "outputs": [],
   "source": [
    "image1 = cv2.imread(frames[0][0], cv2.IMREAD_GRAYSCALE)\n",
    "obj1 = data[0][11]\n",
    "img1 = image1[obj1['y_min']: obj1['y_max'], obj1['x_min']: obj1['x_max']]"
   ]
  },
  {
   "cell_type": "code",
   "execution_count": 296,
   "metadata": {},
   "outputs": [],
   "source": [
    "image2 = cv2.imread(frames[0][0], cv2.IMREAD_GRAYSCALE)\n",
    "obj2 = data[1][10]\n",
    "img2 = image2[obj2['y_min']: obj2['y_max'], obj2['x_min']: obj2['x_max']]"
   ]
  },
  {
   "cell_type": "code",
   "execution_count": 297,
   "metadata": {},
   "outputs": [
    {
     "data": {
      "image/png": "[encoded data removed]",
      "text/plain": [
       "<Figure size 936x504 with 1 Axes>"
      ]
     },
     "metadata": {
      "needs_background": "light"
     },
     "output_type": "display_data"
    }
   ],
   "source": [
    "plt.imshow(img2)\n",
    "plt.show()"
   ]
  },
  {
   "cell_type": "code",
   "execution_count": null,
   "metadata": {},
   "outputs": [],
   "source": []
  },
  {
   "cell_type": "code",
   "execution_count": null,
   "metadata": {},
   "outputs": [],
   "source": []
  },
  {
   "cell_type": "markdown",
   "metadata": {},
   "source": [
    "### Optical flow"
   ]
  },
  {
   "cell_type": "code",
   "execution_count": null,
   "metadata": {},
   "outputs": [],
   "source": []
  },
  {
   "cell_type": "code",
   "execution_count": null,
   "metadata": {},
   "outputs": [],
   "source": []
  },
  {
   "cell_type": "code",
   "execution_count": null,
   "metadata": {},
   "outputs": [],
   "source": []
  },
  {
   "cell_type": "code",
   "execution_count": null,
   "metadata": {},
   "outputs": [],
   "source": []
  }
 ],
 "metadata": {
  "kernelspec": {
   "display_name": "Python 3",
   "language": "python",
   "name": "python3"
  },
  "language_info": {
   "codemirror_mode": {
    "name": "ipython",
    "version": 3
   },
   "file_extension": ".py",
   "mimetype": "text/x-python",
   "name": "python",
   "nbconvert_exporter": "python",
   "pygments_lexer": "ipython3",
   "version": "3.7.4"
  }
 },
 "nbformat": 4,
 "nbformat_minor": 2
}
