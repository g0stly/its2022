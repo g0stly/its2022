{
 "cells": [
  {
   "cell_type": "markdown",
   "metadata": {},
   "source": [
    "### notes\n",
    "1. нужно ли хранить в выходном массиве непосредственно сами фичи? или отрисовывать боксы на изображениях сразу, не выходя из цикла? \n",
    "2. что делать с объектами, которые пропадают из поля зрения?\n",
    "3. **что делать с объектами, для которых нашлась всего одна фича? просто удалять?** (есть прикольная мысль о том, как связан объем изображения с количеством найденных фич - мб есть смысл отбрасовать объекты еще на этапе выделения фрагмента изображения)\n",
    "4. все-таки вопрос об идеальной структуре данных остается неотвеченным (хотя **надо просто попробовать разные**)"
   ]
  },
  {
   "cell_type": "code",
   "execution_count": null,
   "metadata": {},
   "outputs": [],
   "source": []
  },
  {
   "cell_type": "code",
   "execution_count": 1,
   "metadata": {},
   "outputs": [],
   "source": [
    "import os\n",
    "from cv2 import cv2\n",
    "import yaml\n",
    "import re\n",
    "import numpy as np\n",
    "from tqdm.notebook import tqdm\n",
    "from matplotlib import pyplot as plt"
   ]
  },
  {
   "cell_type": "code",
   "execution_count": 2,
   "metadata": {},
   "outputs": [],
   "source": [
    "# параметра отображения картинок внутри блокнота\n",
    "plt.rcParams['figure.figsize'] = [13, 7]"
   ]
  },
  {
   "cell_type": "code",
   "execution_count": null,
   "metadata": {},
   "outputs": [],
   "source": []
  },
  {
   "cell_type": "markdown",
   "metadata": {},
   "source": [
    "### Вспомогательные функции"
   ]
  },
  {
   "cell_type": "code",
   "execution_count": 3,
   "metadata": {},
   "outputs": [],
   "source": [
    "def readYAMLFile(file):\n",
    "    ret = {}\n",
    "    skip_lines = 1    # Skip the first line which says \"%YAML:1.0\". Or replace it with \"%YAML 1.0\"\n",
    "    with open(file) as fin:\n",
    "        for i in range(skip_lines):\n",
    "            fin.readline()\n",
    "        yamlFileOut = fin.read()\n",
    "        myRe = re.compile(r\":([^ ])\")   # Add space after \":\", if it doesn't exist. Python yaml requirement\n",
    "        yamlFileOut = myRe.sub(r': \\1', yamlFileOut)\n",
    "        ret = yaml.safe_load(yamlFileOut)\n",
    "    return ret"
   ]
  },
  {
   "cell_type": "code",
   "execution_count": 4,
   "metadata": {},
   "outputs": [],
   "source": [
    "# расстояние между двумя точками\n",
    "def dist(p1, p2):\n",
    "    x1, y1 = p1\n",
    "    x2, y2 = p2\n",
    "    return ((x1 - x2) ** 2 + (y1 - y2) ** 2) ** 0.5"
   ]
  },
  {
   "cell_type": "code",
   "execution_count": 292,
   "metadata": {},
   "outputs": [],
   "source": [
    "# оставляем только нужные ключи\n",
    "def convert_object(image, obj):\n",
    "    # converted = {key: obj[key] for key in ['x_min', 'y_min', 'x_max', 'y_max']}\n",
    "    # converted['flow'] = []\n",
    "    \n",
    "    converted = {\n",
    "        'id': obj['id'],\n",
    "        'flow': [\n",
    "            {key: obj[key] for key in ['x_min', 'y_min', 'x_max', 'y_max']}\n",
    "        ]\n",
    "        \n",
    "    }\n",
    "    \n",
    "    converted['flow'][-1]['frame_id'] = image[18:-4]\n",
    "    \n",
    "    return converted"
   ]
  },
  {
   "cell_type": "code",
   "execution_count": null,
   "metadata": {},
   "outputs": [],
   "source": []
  },
  {
   "cell_type": "code",
   "execution_count": 114,
   "metadata": {},
   "outputs": [],
   "source": [
    "def get_frame(object_, p0, p1):\n",
    "    \n",
    "    # центр рамки объекта на первом кадре\n",
    "    center_1 = np.array([(object_['flow'][-1]['x_min'] + object_['flow'][-1]['x_max']) / 2, \n",
    "                         (object_['flow'][-1]['y_min'] + object_['flow'][-1]['y_max']) / 2], \n",
    "                                                                                    dtype='float32')\n",
    "    \n",
    "    \n",
    "    centroid_1, centroid_2 = [x.mean(axis=-2) for x in [p0, p1]]\n",
    "    \n",
    "    \n",
    "    dist_between_points_1 = np.array([dist(p0[i], p0[j]) for i in range(len(p0)) \n",
    "                                                for j in range(i + 1, len(p0))]).mean()\n",
    "    dist_between_points_2 = np.array([dist(p1[i], p1[j]) for i in range(len(p1)) \n",
    "                                                for j in range(i + 1, len(p1))]).mean()\n",
    "    \n",
    "    \n",
    "    scale = dist_between_points_1 / dist_between_points_2\n",
    "    difference = (center_1 - centroid_1) / scale\n",
    "        \n",
    "    # параметры новой рамки\n",
    "    center_2 = centroid_2 + difference\n",
    "    width_2, height_2 = (object_['flow'][-1]['x_max'] - object_['flow'][-1]['x_min']) / scale, \\\n",
    "                        (object_['flow'][-1]['y_max'] - object_['flow'][-1]['y_min']) / scale\n",
    "            \n",
    "        \n",
    "    # итог: координаты предсказанной рамки    \n",
    "    x_min = int(round(center_2[0] - width_2 / 2))\n",
    "    y_min = int(round(center_2[1] - height_2 / 2))\n",
    "    x_max = int(round(center_2[0] + width_2 / 2))\n",
    "    y_max = int(round(center_2[1] + height_2 / 2))\n",
    "        \n",
    "        \n",
    "    return {'x_min': x_min,'y_min': y_min,'x_max': x_max,'y_max': y_max}\n",
    "    "
   ]
  },
  {
   "cell_type": "code",
   "execution_count": 131,
   "metadata": {},
   "outputs": [],
   "source": [
    "# intersection over union\n",
    "def get_intersection(box_1, box_2):\n",
    "    \n",
    "    # координаты прямоугольника - пересечения\n",
    "    x_min = max(box_1['x_min'], box_2['x_min'])\n",
    "    y_min = max(box_1['y_min'], box_2['y_min'])\n",
    "    x_max = min(box_1['x_max'], box_2['x_max'])\n",
    "    y_max = min(box_1['y_max'], box_2['y_max'])\n",
    "    \n",
    "    \n",
    "    if x_max < x_min or y_max < y_min:\n",
    "        return -1\n",
    "    \n",
    "    \n",
    "    intersection_area = (x_max - x_min) * (y_max - y_min)\n",
    "    box_1_area = (box_1['x_max'] - box_1['x_min']) * (box_1['y_max'] - box_1['y_min'])\n",
    "    box_2_area = (box_2['x_max'] - box_2['x_min']) * (box_2['y_max'] - box_2['y_min'])\n",
    "    \n",
    "    return intersection_area / (box_1_area + box_2_area - intersection_area)"
   ]
  },
  {
   "cell_type": "code",
   "execution_count": null,
   "metadata": {},
   "outputs": [],
   "source": []
  },
  {
   "cell_type": "code",
   "execution_count": null,
   "metadata": {},
   "outputs": [],
   "source": []
  },
  {
   "cell_type": "markdown",
   "metadata": {},
   "source": [
    "### Данные"
   ]
  },
  {
   "cell_type": "code",
   "execution_count": 396,
   "metadata": {},
   "outputs": [],
   "source": [
    "imgs_path = 'images/cam0/'\n",
    "frms_path = 'frames/cam0/'\n",
    "\n",
    "images = sorted([imgs_path + x for x in os.listdir(imgs_path) if x.endswith('.png')])\n",
    "frames = sorted([frms_path + x for x in os.listdir(frms_path) if x.endswith('.yml')])"
   ]
  },
  {
   "cell_type": "code",
   "execution_count": null,
   "metadata": {},
   "outputs": [],
   "source": []
  },
  {
   "cell_type": "markdown",
   "metadata": {},
   "source": [
    "### Оптический поток\n",
    "+ в данном случае используем SIFT (вообще говоря, не единственный возможный вариант)"
   ]
  },
  {
   "cell_type": "code",
   "execution_count": 8,
   "metadata": {},
   "outputs": [],
   "source": [
    "# lucas-kanade parameters\n",
    "lk_params = dict(winSize  = (15, 15),\n",
    "                 maxLevel = 2,\n",
    "                 criteria = (cv2.TERM_CRITERIA_EPS | cv2.TERM_CRITERIA_COUNT, 10, 0.03))\n",
    "\n",
    "sift = cv2.SIFT_create()"
   ]
  },
  {
   "cell_type": "code",
   "execution_count": 294,
   "metadata": {},
   "outputs": [],
   "source": [
    "images = images[:6]\n",
    "frames = frames[:6]"
   ]
  },
  {
   "cell_type": "code",
   "execution_count": 397,
   "metadata": {},
   "outputs": [],
   "source": [
    "# объекты, которые находятся на рассматриваемом кадре\n",
    "objects = []\n",
    "\n",
    "# объекты, которые ушли с кадра\n",
    "gone = []\n",
    "\n",
    "# пары объектов \"бокс с оптического потока\" -> \"бокс с нейронки\", у которых iou > 0.5\n",
    "merged = []\n",
    "\n",
    "\n",
    "while len(images) > 1:\n",
    "    \n",
    "    # 1 и 2 кадр\n",
    "    old_image, image = [cv2.imread(images[i], cv2.IMREAD_COLOR) for i in range(2)]\n",
    "    old_gray, gray = [cv2.cvtColor(x, cv2.COLOR_BGR2GRAY) for x in [old_image, image]]\n",
    "    \n",
    "    # условие для 0 шага\n",
    "    if not objects:\n",
    "        # за исходный набор объектов берем предсказания нейросети для 1 кадра\n",
    "        objects = [convert_object(images[0], x) for x in readYAMLFile(frames[0])['boxes']]\n",
    "    \n",
    "    # набор боксов, предсказанный нейронкой для следующего кадра\n",
    "    new_neuro_objects = [x for x in readYAMLFile(frames[1])['boxes']]\n",
    "    \n",
    "    \n",
    "    for obj in objects:\n",
    "        # вырезанный кусок изображения, содержащий объект obj\n",
    "        cut = old_gray[obj['flow'][-1]['y_min']:obj['flow'][-1]['y_max'], \\\n",
    "                           obj['flow'][-1]['x_min']:obj['flow'][-1]['x_max']]\n",
    "           \n",
    "        \n",
    "        # набор сифтовых фичей для объекта obj\n",
    "        p0 = cv2.KeyPoint_convert(sift.detect(cut, None))\n",
    "        \n",
    "        \n",
    "        # отлов случая с всего одной найденной фичой\n",
    "        # далее этот объект не рассматривается\n",
    "        if len(p0) <= 2:\n",
    "            gone.append(obj)\n",
    "            objects.remove(obj)\n",
    "            break\n",
    "        \n",
    "        p0 = np.array(p0 + (obj['flow'][-1]['x_min'], obj['flow'][-1]['y_min']), dtype='float32')\n",
    "        \n",
    "        \n",
    "        # набор фичей для следующего кадра, посчитанные оптическим потоком\n",
    "        # (вылетает Assertion error, когда в p0 лежит всего одна фича)\n",
    "        p1, st, err = cv2.calcOpticalFlowPyrLK(old_gray, gray, p0, None, **lk_params)\n",
    "        p1 = p1[np.all(st==1, axis=-1)]\n",
    "        \n",
    "        \n",
    "        # получение набора координат для нового бокса\n",
    "        obj['flow'].append(get_frame(obj, p0, p1))\n",
    "        obj['flow'][-1]['frame_id'] = images[1][18:-4]\n",
    "       \n",
    "        \n",
    "        # блок сравнения списка объектов с оптического потока и с нейронки\n",
    "        for new in new_neuro_objects:\n",
    "            k = get_intersection(new, obj['flow'][-1])\n",
    "            if k > 0.7:\n",
    "                merged.append((obj['id'], new['id'], images[1][18:-4]))\n",
    "                new_neuro_objects.remove(new)\n",
    "    \n",
    "    \n",
    "    # блок перехода на следующий шаг\n",
    "    \n",
    "    objects += [convert_object(images[1], x) for x in new_neuro_objects]\n",
    "    images = images[1:]\n",
    "    frames = frames[1:]"
   ]
  },
  {
   "cell_type": "markdown",
   "metadata": {},
   "source": [
    "### проблемы, которые я вижу: \n",
    "1. почему отработавшие объекты (длины = 1) не удаляются из списка objects\n",
    "2. что творится в блоке сравнения потока и нейронки???\n",
    "3. почему поток работает так плохо? (всего 10 объектов из 303 с длиной потока > 3)"
   ]
  },
  {
   "cell_type": "code",
   "execution_count": null,
   "metadata": {},
   "outputs": [],
   "source": []
  },
  {
   "cell_type": "code",
   "execution_count": 403,
   "metadata": {},
   "outputs": [
    {
     "data": {
      "text/plain": [
       "303"
      ]
     },
     "execution_count": 403,
     "metadata": {},
     "output_type": "execute_result"
    }
   ],
   "source": [
    "len(objects) + len(gone)"
   ]
  },
  {
   "cell_type": "code",
   "execution_count": 401,
   "metadata": {},
   "outputs": [],
   "source": [
    "good_to_draw = [x for x in gone if len(x['flow']) > 3]"
   ]
  },
  {
   "cell_type": "code",
   "execution_count": 402,
   "metadata": {},
   "outputs": [
    {
     "data": {
      "text/plain": [
       "10"
      ]
     },
     "execution_count": 402,
     "metadata": {},
     "output_type": "execute_result"
    }
   ],
   "source": [
    "len(good_to_draw)"
   ]
  },
  {
   "cell_type": "code",
   "execution_count": 374,
   "metadata": {},
   "outputs": [],
   "source": [
    "def draw_visualisation(obj):\n",
    "    for x in obj['flow']:\n",
    "        id_ = x['frame_id']\n",
    "        img = cv2.imread(f'images/cam0/frame-{id_}.png', cv2.IMREAD_COLOR)\n",
    "        cv2.rectangle(img, (x['x_min'], x['y_min']), (x['x_max'], x['y_max']), (0, 255, 0), 3)\n",
    "        cv2.imwrite(f'visualisation/frame-{id_}.png', img)"
   ]
  },
  {
   "cell_type": "code",
   "execution_count": 387,
   "metadata": {},
   "outputs": [],
   "source": [
    "draw_visualisation(good_to_draw[3])"
   ]
  },
  {
   "cell_type": "code",
   "execution_count": null,
   "metadata": {},
   "outputs": [],
   "source": []
  },
  {
   "cell_type": "code",
   "execution_count": null,
   "metadata": {},
   "outputs": [],
   "source": []
  },
  {
   "cell_type": "code",
   "execution_count": null,
   "metadata": {},
   "outputs": [],
   "source": []
  }
 ],
 "metadata": {
  "kernelspec": {
   "display_name": "Python 3",
   "language": "python",
   "name": "python3"
  },
  "language_info": {
   "codemirror_mode": {
    "name": "ipython",
    "version": 3
   },
   "file_extension": ".py",
   "mimetype": "text/x-python",
   "name": "python",
   "nbconvert_exporter": "python",
   "pygments_lexer": "ipython3",
   "version": "3.7.4"
  }
 },
 "nbformat": 4,
 "nbformat_minor": 2
}
